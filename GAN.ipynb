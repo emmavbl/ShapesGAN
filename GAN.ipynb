{
 "cells": [
  {
   "cell_type": "code",
   "execution_count": 7,
   "metadata": {},
   "outputs": [],
   "source": [
    "import torch, numpy, matplotlib.pyplot as plt\n",
    "\n",
    "#binary classifier that determines whether data points are from the original distribution or the fake (generated) distribution\n",
    "class Discriminator(torch.nn.Module):\n",
    "  def __init__(self, input_dim=2, hidden_dim=28, n_layers=3):\n",
    "    super(Discriminator,self).__init__()\n",
    "\n",
    "    self.input = torch.nn.Sequential( torch.nn.Linear(input_dim, hidden_dim), torch.nn.LeakyReLU() )\n",
    "    self.layers = []\n",
    "    for i in range(n_layers):\n",
    "      self.layers.append( torch.nn.Sequential( torch.nn.Linear(hidden_dim, hidden_dim), torch.nn.LeakyReLU() ) )\n",
    "    \n",
    "    self.layers = torch.nn.ModuleList(self.layers)\n",
    "    self.output = torch.nn.Sequential( torch.nn.Linear(hidden_dim, 1), torch.nn.Sigmoid() )\n",
    "\n",
    "  def forward(self, x):\n",
    "    o = self.input(x)\n",
    "    for layer in self.layers:\n",
    "      o = layer(o)\n",
    "\n",
    "    o = self.output(o)\n",
    "    return o\n",
    "  \n",
    "#Generator, takes in random noise and outputs a fake point\n",
    "class Generator(torch.nn.Module):\n",
    "  def __init__(self, z_dim=1, hidden_dim=28, n_layers=3, out_dim=2):\n",
    "    super(Generator, self).__init__()\n",
    "\n",
    "    self.input = torch.nn.Sequential( torch.nn.Linear(z_dim, hidden_dim), torch.nn.LeakyReLU() )\n",
    "    self.layers = []\n",
    "    for i in range(n_layers):\n",
    "      self.layers.append( torch.nn.Sequential( torch.nn.Linear(hidden_dim, hidden_dim ), torch.nn.LeakyReLU() ) )\n",
    "    \n",
    "    self.layers = torch.nn.ModuleList(self.layers)\n",
    "    self.output = torch.nn.Linear(hidden_dim, out_dim)\n",
    "\n",
    "  def forward(self, x):\n",
    "    o = self.input(x)\n",
    "    for layer in self.layers:\n",
    "      o = layer(o)\n",
    "\n",
    "    o = self.output(o)\n",
    "    return o"
   ]
  },
  {
   "cell_type": "code",
   "execution_count": null,
   "metadata": {},
   "outputs": [],
   "source": []
  }
 ],
 "metadata": {
  "interpreter": {
   "hash": "b05e84dc0b10ef20cb8dbe56f3e7c0683a2dcd0fff23e9eb10dd12695aad82fc"
  },
  "kernelspec": {
   "display_name": "Python 3.8.3 64-bit ('base': conda)",
   "language": "python",
   "name": "python3"
  },
  "language_info": {
   "codemirror_mode": {
    "name": "ipython",
    "version": 3
   },
   "file_extension": ".py",
   "mimetype": "text/x-python",
   "name": "python",
   "nbconvert_exporter": "python",
   "pygments_lexer": "ipython3",
   "version": "3.8.3"
  },
  "orig_nbformat": 4
 },
 "nbformat": 4,
 "nbformat_minor": 2
}
